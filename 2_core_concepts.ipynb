{
 "cells": [
  {
   "cell_type": "code",
   "metadata": {
    "ExecuteTime": {
     "end_time": "2024-11-11T23:25:29.277765Z",
     "start_time": "2024-11-11T23:25:26.490505Z"
    }
   },
   "source": [
    "from IPython.display import display, HTML\n",
    "from PIL import Image, ImageDraw, ImageFont\n",
    "import matplotlib.pyplot as plt\n",
    "from matplotlib.table import Table\n",
    "import matplotlib.patches as mpatches  # Correctly importing mpatches\n",
    "from matplotlib.font_manager import FontProperties\n",
    "from transformers import AutoTokenizer, AutoModelForTokenClassification, pipeline, AutoModel\n",
    "import stanza\n",
    "import arabic_reshaper\n",
    "from bidi.algorithm import get_display\n",
    "import pandas as pd\n",
    "import torch\n",
    "from gensim.models import Word2Vec\n",
    "from sklearn.decomposition import PCA\n",
    "import numpy as np"
   ],
   "outputs": [
    {
     "name": "stderr",
     "output_type": "stream",
     "text": [
      "/Users/nirkon/free_dev/nlp-intro/.venv/lib/python3.9/site-packages/tqdm/auto.py:21: TqdmWarning: IProgress not found. Please update jupyter and ipywidgets. See https://ipywidgets.readthedocs.io/en/stable/user_install.html\n",
      "  from .autonotebook import tqdm as notebook_tqdm\n"
     ]
    }
   ],
   "execution_count": 1
  },
  {
   "cell_type": "markdown",
   "metadata": {},
   "source": ""
  },
  {
   "cell_type": "markdown",
   "metadata": {},
   "source": [
    "# 2. Core Concepts in NLP\n",
    "\n",
    "## Tokenization - (Words, Sentences, Subwords)"
   ]
  },
  {
   "cell_type": "markdown",
   "metadata": {},
   "source": [
    "<div dir=\"rtl\">"
   ]
  },
  {
   "cell_type": "markdown",
   "metadata": {},
   "source": [
    "<div dir=\"rtl\">\n",
    " תהליך פירוק הטקס לחלקים קטנים יותר.\n",
    " \n",
    "</div>"
   ]
  },
  {
   "cell_type": "code",
   "metadata": {
    "ExecuteTime": {
     "end_time": "2024-11-11T23:25:29.282892Z",
     "start_time": "2024-11-11T23:25:29.278826Z"
    }
   },
   "source": [
    "hebrew_text = \"\"\"\n",
    "הזאב הגדול הלך לבקר את כיפה אדומה\n",
    "בבית החווה עם השער הכחול.\n",
    "הצייד הגיע ישר אחריו והציל את כולם.\n",
    "\"\"\"\n",
    "display(HTML(f\"<div dir='rtl' style='font-size:16px;'><pre style='font-family: inherit;'>{str}</pre></div>\"))"
   ],
   "outputs": [
    {
     "data": {
      "text/plain": [
       "<IPython.core.display.HTML object>"
      ],
      "text/html": [
       "<div dir='rtl' style='font-size:16px;'><pre style='font-family: inherit;'><class 'str'></pre></div>"
      ]
     },
     "metadata": {},
     "output_type": "display_data"
    }
   ],
   "execution_count": 2
  },
  {
   "cell_type": "code",
   "metadata": {
    "ExecuteTime": {
     "end_time": "2024-11-11T23:25:29.286001Z",
     "start_time": "2024-11-11T23:25:29.283613Z"
    }
   },
   "source": [
    "# Create a blank image with a white background\n",
    "font = ImageFont.truetype(\"/Users/nirkon/dev/fonts/Arial.ttf\", 20)  # Use the uploaded Arial font\n",
    "# Starting y-coordinate for drawing text\n",
    "y = 10\n",
    "x_padding = 5  # Padding around words\n",
    "y_spacing = 40  # Space between lines"
   ],
   "outputs": [],
   "execution_count": 3
  },
  {
   "cell_type": "markdown",
   "metadata": {},
   "source": [
    "### לפי מילים"
   ]
  },
  {
   "cell_type": "code",
   "metadata": {
    "ExecuteTime": {
     "end_time": "2024-11-11T23:25:29.324592Z",
     "start_time": "2024-11-11T23:25:29.286883Z"
    }
   },
   "source": [
    "\n",
    "# Split text into lines and words\n",
    "lines = hebrew_text.strip().split(\"\\n\")\n",
    "words_per_line = [line.split() for line in lines]\n",
    "\n",
    "# Create a blank image with a white background\n",
    "img = Image.new('RGB', (500, 130), 'white')\n",
    "draw = ImageDraw.Draw(img)\n",
    "font = ImageFont.truetype(\"/Users/nirkon/dev/fonts/Arial.ttf\", 20)  # Use the uploaded Arial font\n",
    "\n",
    "# Starting y-coordinate for drawing text\n",
    "y = 10\n",
    "x_padding = 5  # Padding around words\n",
    "y_spacing = 40  # Space between lines\n",
    "\n",
    "# Draw each word with a bounding box\n",
    "for line_words in words_per_line:\n",
    "    x = img.width - 10  # Start from the right side for RTL alignment\n",
    "    for word in line_words:  # Reverse for RTL order\n",
    "        # Calculate word size using textbbox\n",
    "        bbox = draw.textbbox((0, 0), word, font=font)\n",
    "        word_width = bbox[2] - bbox[0]\n",
    "        word_height = 22\n",
    "        \n",
    "        # Draw the word\n",
    "        draw.text((x - word_width, y), word[::-1], font=font, fill=\"black\")\n",
    "        \n",
    "        # Draw the bounding box around the word\n",
    "        draw.rectangle([x - word_width - x_padding, y, x + x_padding, y + word_height], outline=\"black\")\n",
    "        \n",
    "        # Move left for the next word\n",
    "        x -= word_width + 2 * x_padding\n",
    "    y += y_spacing  # Move down for the next line\n",
    "\n",
    "# Display the image in Jupyter using matplotlib\n",
    "plt.figure(figsize=(8, 6))\n",
    "plt.imshow(img)\n",
    "plt.axis('off')\n",
    "plt.show()"
   ],
   "outputs": [
    {
     "data": {
      "text/plain": [
       "<Figure size 800x600 with 1 Axes>"
      ],
      "image/png": "[encoded data removed]"
     },
     "metadata": {},
     "output_type": "display_data"
    }
   ],
   "execution_count": 4
  },
  {
   "cell_type": "markdown",
   "metadata": {},
   "source": [
    "### לפי שורות"
   ]
  },
  {
   "cell_type": "code",
   "metadata": {
    "ExecuteTime": {
     "end_time": "2024-11-11T23:25:29.354304Z",
     "start_time": "2024-11-11T23:25:29.326268Z"
    }
   },
   "source": [
    "# Split text into lines\n",
    "lines = hebrew_text.strip().split(\"\\n\")\n",
    "\n",
    "# Create a blank image with a white background\n",
    "img = Image.new('RGB', (500, 130), 'white')\n",
    "draw = ImageDraw.Draw(img)\n",
    "font = ImageFont.truetype(\"/mnt/data/Arial.ttf\", 20)  # Use the uploaded Arial font\n",
    "\n",
    "# Starting y-coordinate for drawing text\n",
    "y = 10\n",
    "x_padding = 5  # Padding around lines\n",
    "y_spacing = 40  # Space between lines\n",
    "\n",
    "# Draw each line with a bounding box\n",
    "for line in lines:\n",
    "    # Calculate the width of the entire line by summing each word's width\n",
    "    line_width = sum(draw.textbbox((0, 0), word, font=font)[2] for word in line.split()) + (x_padding * (len(line.split()) - 1))\n",
    "    line_height = draw.textbbox((0, 0), line, font=font)[3]  # Height of the line\n",
    "\n",
    "    # Start drawing from the right side for RTL alignment\n",
    "    x = img.width - 10\n",
    "\n",
    "    # Draw each word in the line\n",
    "    for word in line.split():  # RTL by reversing word order\n",
    "        bbox = draw.textbbox((0, 0), word, font=font)\n",
    "        word_width = bbox[2] - bbox[0]\n",
    "        \n",
    "        # Draw the word\n",
    "        draw.text((x - word_width, y), word[::-1], font=font, fill=\"black\")\n",
    "        \n",
    "        # Move left for the next word\n",
    "        x -= word_width + x_padding\n",
    "\n",
    "    # Draw bounding box around the entire line\n",
    "    draw.rectangle([img.width - line_width - 10, y, img.width - 10, y + line_height], outline=\"black\")\n",
    "    \n",
    "    y += y_spacing  # Move down for the next line\n",
    "\n",
    "# Display the image in Jupyter using matplotlib\n",
    "plt.figure(figsize=(8, 6))\n",
    "plt.imshow(img)\n",
    "plt.axis('off')\n",
    "plt.show()"
   ],
   "outputs": [
    {
     "data": {
      "text/plain": [
       "<Figure size 800x600 with 1 Axes>"
      ],
      "image/png": "[encoded data removed]"
     },
     "metadata": {},
     "output_type": "display_data"
    }
   ],
   "execution_count": 5
  },
  {
   "cell_type": "markdown",
   "metadata": {},
   "source": [
    "### לפי משפטים"
   ]
  },
  {
   "cell_type": "code",
   "metadata": {
    "ExecuteTime": {
     "end_time": "2024-11-11T23:25:29.382942Z",
     "start_time": "2024-11-11T23:25:29.354942Z"
    }
   },
   "source": [
    "# Split text into paragraphs by \".\" while preserving line breaks\n",
    "paragraphs = [p.strip() + \".\" for p in hebrew_text.split(\".\") if p.strip()]\n",
    "\n",
    "# Create a blank image with a white background\n",
    "img = Image.new('RGB', (500, 150), 'white')\n",
    "draw = ImageDraw.Draw(img)\n",
    "\n",
    "# Starting y-coordinate for drawing text\n",
    "y = 10\n",
    "paragraph_spacing = 20  # Additional space between paragraphs\n",
    "\n",
    "# Draw each paragraph, preserving line breaks within each paragraph\n",
    "for paragraph in paragraphs:\n",
    "    # Split each paragraph into lines based on line breaks within the paragraph\n",
    "    lines = paragraph.splitlines()  # Keeps all line breaks inside each paragraph\n",
    "    \n",
    "    # Determine the bounding box for the paragraph based on its lines\n",
    "    max_line_width = 0\n",
    "    paragraph_height = 0\n",
    "\n",
    "    # Measure the maximum line width and cumulative height\n",
    "    for line in lines:\n",
    "        line_width = sum(draw.textbbox((0, 0), word, font=font)[2] for word in line.split()) + (x_padding * (len(line.split()) - 1))\n",
    "        max_line_width = max(max_line_width, line_width)\n",
    "        line_height = draw.textbbox((0, 0), line, font=font)[3]\n",
    "        paragraph_height += line_height + y_spacing\n",
    "\n",
    "    # Draw bounding box for the paragraph\n",
    "    draw.rectangle([img.width - max_line_width - 10, y, img.width - 10, y + paragraph_height - y_spacing], outline=\"black\")\n",
    "\n",
    "    # Draw each line within the paragraph\n",
    "    for line in lines:\n",
    "        # Start drawing from the right side for RTL alignment\n",
    "        x = img.width - 10\n",
    "\n",
    "        # Draw each word in the line\n",
    "        for word in line.split():  # RTL by reversing word order\n",
    "            bbox = draw.textbbox((0, 0), word, font=font)\n",
    "            word_width = bbox[2] - bbox[0]\n",
    "            \n",
    "            # Draw the word\n",
    "            draw.text((x - word_width, y), word[::-1], font=font, fill=\"black\")\n",
    "            \n",
    "            # Move left for the next word\n",
    "            x -= word_width + x_padding\n",
    "\n",
    "        y += y_spacing  # Move down for the next line\n",
    "\n",
    "    # Add extra space after each paragraph\n",
    "    y += paragraph_spacing\n",
    "\n",
    "# Display the image in Jupyter using matplotlib\n",
    "plt.figure(figsize=(8, 8))\n",
    "plt.imshow(img)\n",
    "plt.axis('off')\n",
    "plt.show()"
   ],
   "outputs": [
    {
     "data": {
      "text/plain": [
       "<Figure size 800x800 with 1 Axes>"
      ],
      "image/png": "[encoded data removed]"
     },
     "metadata": {},
     "output_type": "display_data"
    }
   ],
   "execution_count": 6
  },
  {
   "cell_type": "markdown",
   "metadata": {},
   "source": [
    "### "
   ]
  },
  {
   "cell_type": "code",
   "metadata": {
    "ExecuteTime": {
     "end_time": "2024-11-11T23:25:30.383718Z",
     "start_time": "2024-11-11T23:25:29.384028Z"
    }
   },
   "source": [
    "# Load the tokenizer for the model\n",
    "tokenizer = AutoTokenizer.from_pretrained(\"intfloat/multilingual-e5-large\")\n",
    "\n",
    "# Define the sentence and tokenize it\n",
    "sentence = \"הזאב הגדול הלך לבקר את כיפה אדומה בבית החווה עם השער הכחול.\"\n",
    "tokens = tokenizer.tokenize(sentence)\n",
    "print(tokens)"
   ],
   "outputs": [
    {
     "name": "stdout",
     "output_type": "stream",
     "text": [
      "['▁הז', 'אב', '▁הגדול', '▁ה', 'לך', '▁לבקר', '▁את', '▁כי', 'פה', '▁א', 'דומה', '▁בבית', '▁ה', 'חווה', '▁עם', '▁ה', 'שער', '▁הכ', 'חול', '.']\n"
     ]
    }
   ],
   "execution_count": 7
  },
  {
   "cell_type": "code",
   "metadata": {
    "ExecuteTime": {
     "end_time": "2024-11-11T23:25:30.431023Z",
     "start_time": "2024-11-11T23:25:30.387236Z"
    }
   },
   "source": [
    "\n",
    "# Tokenize the sentence and get token IDs\n",
    "tokens = tokenizer.tokenize(sentence)\n",
    "token_ids = tokenizer.convert_tokens_to_ids(tokens)\n",
    "\n",
    "# Create a figure and axis\n",
    "fig, ax = plt.subplots(figsize=(12, 2))\n",
    "\n",
    "# Plot the sentence in reverse (Hebrew is right-to-left)\n",
    "ax.text(0.5, 0.85, sentence[::-1], ha='center', va='center', fontsize=12)\n",
    "\n",
    "# Plot each token in reverse order with its token ID below it, with more vertical space\n",
    "for i, (token, token_id) in enumerate(zip(tokens[::-1], token_ids[::-1])):\n",
    "    # Token text with adjusted vertical space\n",
    "    ax.text(i / len(tokens), 0.5, token[::-1], ha='center', va='center', fontsize=10)\n",
    "    # Token ID with more space below the token, in purple if token_id is 364\n",
    "    color = 'purple' if token_id == 364 else 'gray'\n",
    "    ax.text(i / len(tokens), 0.3, f\"{token_id}\", ha='center', va='center', fontsize=8, color=color)\n",
    "\n",
    "# Remove axes\n",
    "ax.axis('off')\n",
    "\n",
    "# Show the plot\n",
    "plt.show()"
   ],
   "outputs": [
    {
     "data": {
      "text/plain": [
       "<Figure size 1200x200 with 1 Axes>"
      ],
      "image/png": "[encoded data removed]"
     },
     "metadata": {},
     "output_type": "display_data"
    }
   ],
   "execution_count": 8
  },
  {
   "cell_type": "code",
   "metadata": {
    "ExecuteTime": {
     "end_time": "2024-11-11T23:25:30.434507Z",
     "start_time": "2024-11-11T23:25:30.431882Z"
    }
   },
   "source": [
    "print(f\"Number of Words: {len(sentence.split())}, Number of Tokens: {len(tokens)}, ratio = {len(tokens) / len(sentence.split())}\")"
   ],
   "outputs": [
    {
     "name": "stdout",
     "output_type": "stream",
     "text": [
      "Number of Words: 12, Number of Tokens: 20, ratio = 1.6666666666666667\n"
     ]
    }
   ],
   "execution_count": 9
  },
  {
   "cell_type": "markdown",
   "metadata": {},
   "source": [
    "## Part-of-Speech Tagging"
   ]
  },
  {
   "cell_type": "code",
   "metadata": {
    "ExecuteTime": {
     "end_time": "2024-11-11T23:25:32.069911Z",
     "start_time": "2024-11-11T23:25:30.436444Z"
    }
   },
   "source": [
    "nlp = stanza.Pipeline('he', processors='tokenize,mwt,pos,lemma,depparse')\n",
    "\n",
    "# UPOS to Hebrew mapping\n",
    "upos_to_hebrew = {\n",
    "    'ADJ': 'שם תואר',           # Adjective\n",
    "    'ADP': 'מילת יחס',          # Adposition\n",
    "    'ADV': 'תואר הפועל',        # Adverb\n",
    "    'AUX': 'פועל עזר',          # Auxiliary\n",
    "    'CCONJ': 'מילת חיבור',      # Coordinating Conjunction\n",
    "    'DET': 'מילית יידוע',       # Determiner\n",
    "    'INTJ': 'מילת קריאה',       # Interjection\n",
    "    'NOUN': 'שם עצם',           # Noun\n",
    "    'NUM': 'מספר',              # Numeral\n",
    "    'PART': 'מילית',            # Particle\n",
    "    'PRON': 'כינוי גוף',        # Pronoun\n",
    "    'PROPN': 'שם פרטי',         # Proper Noun\n",
    "    'PUNCT': 'פיסוק',           # Punctuation\n",
    "    'SCONJ': 'מילת שעבוד',      # Subordinating Conjunction\n",
    "    'SYM': 'סימן',              # Symbol\n",
    "    'VERB': 'פועל',             # Verb\n",
    "    'X': 'אחר'                  # Other\n",
    "}"
   ],
   "outputs": [
    {
     "name": "stderr",
     "output_type": "stream",
     "text": [
      "2024-11-12 01:25:30 INFO: Checking for updates to resources.json in case models have been updated.  Note: this behavior can be turned off with download_method=None or download_method=DownloadMethod.REUSE_RESOURCES\n",
      "huggingface/tokenizers: The current process just got forked, after parallelism has already been used. Disabling parallelism to avoid deadlocks...\n",
      "To disable this warning, you can either:\n",
      "\t- Avoid using `tokenizers` before the fork if possible\n",
      "\t- Explicitly set the environment variable TOKENIZERS_PARALLELISM=(true | false)\n",
      "Downloading https://raw.githubusercontent.com/stanfordnlp/stanza-resources/main/resources_1.9.0.json: 392kB [00:00, 40.1MB/s]                    \n",
      "2024-11-12 01:25:30 INFO: Downloaded file to /Users/nirkon/stanza_resources/resources.json\n",
      "2024-11-12 01:25:31 INFO: Loading these models for language: he (Hebrew):\n",
      "=================================\n",
      "| Processor | Package           |\n",
      "---------------------------------\n",
      "| tokenize  | combined          |\n",
      "| mwt       | combined          |\n",
      "| pos       | combined_charlm   |\n",
      "| lemma     | combined_nocharlm |\n",
      "| depparse  | combined_charlm   |\n",
      "=================================\n",
      "\n",
      "2024-11-12 01:25:31 INFO: Using device: cpu\n",
      "2024-11-12 01:25:31 INFO: Loading: tokenize\n",
      "/Users/nirkon/free_dev/nlp-intro/.venv/lib/python3.9/site-packages/stanza/models/tokenization/trainer.py:82: FutureWarning: You are using `torch.load` with `weights_only=False` (the current default value), which uses the default pickle module implicitly. It is possible to construct malicious pickle data which will execute arbitrary code during unpickling (See https://github.com/pytorch/pytorch/blob/main/SECURITY.md#untrusted-models for more details). In a future release, the default value for `weights_only` will be flipped to `True`. This limits the functions that could be executed during unpickling. Arbitrary objects will no longer be allowed to be loaded via this mode unless they are explicitly allowlisted by the user via `torch.serialization.add_safe_globals`. We recommend you start setting `weights_only=True` for any use case where you don't have full control of the loaded file. Please open an issue on GitHub for any issues related to this experimental feature.\n",
      "  checkpoint = torch.load(filename, lambda storage, loc: storage)\n",
      "2024-11-12 01:25:31 INFO: Loading: mwt\n",
      "/Users/nirkon/free_dev/nlp-intro/.venv/lib/python3.9/site-packages/stanza/models/mwt/trainer.py:201: FutureWarning: You are using `torch.load` with `weights_only=False` (the current default value), which uses the default pickle module implicitly. It is possible to construct malicious pickle data which will execute arbitrary code during unpickling (See https://github.com/pytorch/pytorch/blob/main/SECURITY.md#untrusted-models for more details). In a future release, the default value for `weights_only` will be flipped to `True`. This limits the functions that could be executed during unpickling. Arbitrary objects will no longer be allowed to be loaded via this mode unless they are explicitly allowlisted by the user via `torch.serialization.add_safe_globals`. We recommend you start setting `weights_only=True` for any use case where you don't have full control of the loaded file. Please open an issue on GitHub for any issues related to this experimental feature.\n",
      "  checkpoint = torch.load(filename, lambda storage, loc: storage)\n",
      "2024-11-12 01:25:31 INFO: Loading: pos\n",
      "/Users/nirkon/free_dev/nlp-intro/.venv/lib/python3.9/site-packages/stanza/models/pos/trainer.py:139: FutureWarning: You are using `torch.load` with `weights_only=False` (the current default value), which uses the default pickle module implicitly. It is possible to construct malicious pickle data which will execute arbitrary code during unpickling (See https://github.com/pytorch/pytorch/blob/main/SECURITY.md#untrusted-models for more details). In a future release, the default value for `weights_only` will be flipped to `True`. This limits the functions that could be executed during unpickling. Arbitrary objects will no longer be allowed to be loaded via this mode unless they are explicitly allowlisted by the user via `torch.serialization.add_safe_globals`. We recommend you start setting `weights_only=True` for any use case where you don't have full control of the loaded file. Please open an issue on GitHub for any issues related to this experimental feature.\n",
      "  checkpoint = torch.load(filename, lambda storage, loc: storage)\n",
      "/Users/nirkon/free_dev/nlp-intro/.venv/lib/python3.9/site-packages/stanza/models/common/pretrain.py:56: FutureWarning: You are using `torch.load` with `weights_only=False` (the current default value), which uses the default pickle module implicitly. It is possible to construct malicious pickle data which will execute arbitrary code during unpickling (See https://github.com/pytorch/pytorch/blob/main/SECURITY.md#untrusted-models for more details). In a future release, the default value for `weights_only` will be flipped to `True`. This limits the functions that could be executed during unpickling. Arbitrary objects will no longer be allowed to be loaded via this mode unless they are explicitly allowlisted by the user via `torch.serialization.add_safe_globals`. We recommend you start setting `weights_only=True` for any use case where you don't have full control of the loaded file. Please open an issue on GitHub for any issues related to this experimental feature.\n",
      "  data = torch.load(self.filename, lambda storage, loc: storage)\n",
      "/Users/nirkon/free_dev/nlp-intro/.venv/lib/python3.9/site-packages/stanza/models/common/char_model.py:271: FutureWarning: You are using `torch.load` with `weights_only=False` (the current default value), which uses the default pickle module implicitly. It is possible to construct malicious pickle data which will execute arbitrary code during unpickling (See https://github.com/pytorch/pytorch/blob/main/SECURITY.md#untrusted-models for more details). In a future release, the default value for `weights_only` will be flipped to `True`. This limits the functions that could be executed during unpickling. Arbitrary objects will no longer be allowed to be loaded via this mode unless they are explicitly allowlisted by the user via `torch.serialization.add_safe_globals`. We recommend you start setting `weights_only=True` for any use case where you don't have full control of the loaded file. Please open an issue on GitHub for any issues related to this experimental feature.\n",
      "  state = torch.load(filename, lambda storage, loc: storage)\n",
      "2024-11-12 01:25:31 INFO: Loading: lemma\n",
      "/Users/nirkon/free_dev/nlp-intro/.venv/lib/python3.9/site-packages/stanza/models/lemma/trainer.py:239: FutureWarning: You are using `torch.load` with `weights_only=False` (the current default value), which uses the default pickle module implicitly. It is possible to construct malicious pickle data which will execute arbitrary code during unpickling (See https://github.com/pytorch/pytorch/blob/main/SECURITY.md#untrusted-models for more details). In a future release, the default value for `weights_only` will be flipped to `True`. This limits the functions that could be executed during unpickling. Arbitrary objects will no longer be allowed to be loaded via this mode unless they are explicitly allowlisted by the user via `torch.serialization.add_safe_globals`. We recommend you start setting `weights_only=True` for any use case where you don't have full control of the loaded file. Please open an issue on GitHub for any issues related to this experimental feature.\n",
      "  checkpoint = torch.load(filename, lambda storage, loc: storage)\n",
      "2024-11-12 01:25:31 INFO: Loading: depparse\n",
      "/Users/nirkon/free_dev/nlp-intro/.venv/lib/python3.9/site-packages/stanza/models/depparse/trainer.py:194: FutureWarning: You are using `torch.load` with `weights_only=False` (the current default value), which uses the default pickle module implicitly. It is possible to construct malicious pickle data which will execute arbitrary code during unpickling (See https://github.com/pytorch/pytorch/blob/main/SECURITY.md#untrusted-models for more details). In a future release, the default value for `weights_only` will be flipped to `True`. This limits the functions that could be executed during unpickling. Arbitrary objects will no longer be allowed to be loaded via this mode unless they are explicitly allowlisted by the user via `torch.serialization.add_safe_globals`. We recommend you start setting `weights_only=True` for any use case where you don't have full control of the loaded file. Please open an issue on GitHub for any issues related to this experimental feature.\n",
      "  checkpoint = torch.load(filename, lambda storage, loc: storage)\n",
      "2024-11-12 01:25:32 INFO: Done loading processors!\n"
     ]
    }
   ],
   "execution_count": 10
  },
  {
   "cell_type": "code",
   "metadata": {
    "ExecuteTime": {
     "end_time": "2024-11-11T23:25:32.242046Z",
     "start_time": "2024-11-11T23:25:32.070793Z"
    }
   },
   "source": [
    "# Function to reshape and reorder RTL text\n",
    "def reshape_rtl(text):\n",
    "    if text is None or text == '-':\n",
    "        return text\n",
    "    reshaped_text = arabic_reshaper.reshape(text)\n",
    "    bidi_text = get_display(reshaped_text)\n",
    "    return bidi_text\n",
    "\n",
    "# Process the text\n",
    "sentence_text = \"הזאבה הגדולה הלכה לבקר את כיפה אדומה בבית החווה עם השער הכחול.\"\n",
    "doc = nlp(sentence_text)\n",
    "\n",
    "# Prepare data for the DataFrame\n",
    "data = []\n",
    "for sent in doc.sentences:\n",
    "    for word in sent.words:\n",
    "        # Safely get features\n",
    "        feats = word.feats if word.feats is not None else '-'\n",
    "        # Get UPOS tag and translate to Hebrew\n",
    "        upos_hebrew = upos_to_hebrew.get(word.upos, 'אחר')\n",
    "        data.append({\n",
    "            'תכונות': feats, \n",
    "            'סוג': upos_hebrew[::-1],\n",
    "            'צורת בסיס': word.lemma[::-1],\n",
    "            'מילה': word.text[::-1]\n",
    "        })\n",
    "\n",
    "# Create DataFrame\n",
    "df = pd.DataFrame(data)\n",
    "\n",
    "# Apply RTL reshaping to the entire DataFrame\n",
    "df = df.applymap(reshape_rtl)\n",
    "\n",
    "# Function to highlight lemmas that differ from the original word\n",
    "def highlight_different_lemmas(row):\n",
    "    styles = [''] * len(row)\n",
    "    if row['צורת בסיס'] != row['מילה']:\n",
    "        idx = row.index.get_loc('צורת בסיס')\n",
    "        styles[idx] = 'background-color: red'\n",
    "    if row['סוג'] == 'פועל':\n",
    "        # Index of the 'למה' column\n",
    "        idx = row.index.get_loc('סוג')\n",
    "        styles[idx] = 'color: green'\n",
    "    if row['סוג'] == 'שם עצם':\n",
    "        # Index of the 'למה' column\n",
    "        idx = row.index.get_loc('סוג')\n",
    "        styles[idx] = 'color: blue'\n",
    "    return styles\n",
    "\n",
    "# Apply the highlighting to the DataFrame\n",
    "df_style = df.style.apply(highlight_different_lemmas, axis=1)\n",
    "\n",
    "# Set text alignment and header style\n",
    "df_style = df_style.set_properties(**{'text-align': 'right'}).set_table_styles(\n",
    "    [{'selector': 'th', 'props': [('text-align', 'center')]}]\n",
    ")\n",
    "\n",
    "# Display the styled DataFrame\n",
    "df_style"
   ],
   "outputs": [
    {
     "name": "stderr",
     "output_type": "stream",
     "text": [
      "/var/folders/3r/z8t8r1zn611b4rhfhyjvxpc80000gq/T/ipykernel_24418/2084432452.py:32: FutureWarning: DataFrame.applymap has been deprecated. Use DataFrame.map instead.\n",
      "  df = df.applymap(reshape_rtl)\n"
     ]
    },
    {
     "data": {
      "text/plain": [
       "<pandas.io.formats.style.Styler at 0x363bc36a0>"
      ],
      "text/html": [
       "<style type=\"text/css\">\n",
       "#T_098b9 th {\n",
       "  text-align: center;\n",
       "}\n",
       "#T_098b9_row0_col0, #T_098b9_row0_col1, #T_098b9_row0_col2, #T_098b9_row0_col3, #T_098b9_row1_col0, #T_098b9_row1_col2, #T_098b9_row1_col3, #T_098b9_row2_col0, #T_098b9_row2_col1, #T_098b9_row2_col2, #T_098b9_row2_col3, #T_098b9_row3_col0, #T_098b9_row3_col1, #T_098b9_row3_col3, #T_098b9_row4_col0, #T_098b9_row4_col3, #T_098b9_row5_col0, #T_098b9_row5_col3, #T_098b9_row6_col0, #T_098b9_row6_col1, #T_098b9_row6_col2, #T_098b9_row6_col3, #T_098b9_row7_col0, #T_098b9_row7_col2, #T_098b9_row7_col3, #T_098b9_row8_col0, #T_098b9_row8_col1, #T_098b9_row8_col3, #T_098b9_row9_col0, #T_098b9_row9_col1, #T_098b9_row9_col2, #T_098b9_row9_col3, #T_098b9_row10_col0, #T_098b9_row10_col2, #T_098b9_row10_col3, #T_098b9_row11_col0, #T_098b9_row11_col1, #T_098b9_row11_col2, #T_098b9_row11_col3, #T_098b9_row12_col0, #T_098b9_row12_col2, #T_098b9_row12_col3, #T_098b9_row13_col0, #T_098b9_row13_col1, #T_098b9_row13_col2, #T_098b9_row13_col3, #T_098b9_row14_col0, #T_098b9_row14_col1, #T_098b9_row14_col2, #T_098b9_row14_col3, #T_098b9_row15_col0, #T_098b9_row15_col2, #T_098b9_row15_col3, #T_098b9_row16_col0, #T_098b9_row16_col1, #T_098b9_row16_col2, #T_098b9_row16_col3, #T_098b9_row17_col0, #T_098b9_row17_col1, #T_098b9_row17_col2, #T_098b9_row17_col3, #T_098b9_row18_col0, #T_098b9_row18_col1, #T_098b9_row18_col2, #T_098b9_row18_col3 {\n",
       "  text-align: right;\n",
       "}\n",
       "#T_098b9_row1_col1, #T_098b9_row7_col1, #T_098b9_row10_col1, #T_098b9_row12_col1, #T_098b9_row15_col1 {\n",
       "  color: blue;\n",
       "  text-align: right;\n",
       "}\n",
       "#T_098b9_row3_col2, #T_098b9_row4_col2, #T_098b9_row5_col2, #T_098b9_row8_col2 {\n",
       "  background-color: red;\n",
       "  text-align: right;\n",
       "}\n",
       "#T_098b9_row4_col1, #T_098b9_row5_col1 {\n",
       "  color: green;\n",
       "  text-align: right;\n",
       "}\n",
       "</style>\n",
       "<table id=\"T_098b9\">\n",
       "  <thead>\n",
       "    <tr>\n",
       "      <th class=\"blank level0\" >&nbsp;</th>\n",
       "      <th id=\"T_098b9_level0_col0\" class=\"col_heading level0 col0\" >תכונות</th>\n",
       "      <th id=\"T_098b9_level0_col1\" class=\"col_heading level0 col1\" >סוג</th>\n",
       "      <th id=\"T_098b9_level0_col2\" class=\"col_heading level0 col2\" >צורת בסיס</th>\n",
       "      <th id=\"T_098b9_level0_col3\" class=\"col_heading level0 col3\" >מילה</th>\n",
       "    </tr>\n",
       "  </thead>\n",
       "  <tbody>\n",
       "    <tr>\n",
       "      <th id=\"T_098b9_level0_row0\" class=\"row_heading level0 row0\" >0</th>\n",
       "      <td id=\"T_098b9_row0_col0\" class=\"data row0 col0\" >Definite=Def|PronType=Art</td>\n",
       "      <td id=\"T_098b9_row0_col1\" class=\"data row0 col1\" >מילית יידוע</td>\n",
       "      <td id=\"T_098b9_row0_col2\" class=\"data row0 col2\" >ה</td>\n",
       "      <td id=\"T_098b9_row0_col3\" class=\"data row0 col3\" >ה</td>\n",
       "    </tr>\n",
       "    <tr>\n",
       "      <th id=\"T_098b9_level0_row1\" class=\"row_heading level0 row1\" >1</th>\n",
       "      <td id=\"T_098b9_row1_col0\" class=\"data row1 col0\" >Gender=Fem|Number=Sing</td>\n",
       "      <td id=\"T_098b9_row1_col1\" class=\"data row1 col1\" >שם עצם</td>\n",
       "      <td id=\"T_098b9_row1_col2\" class=\"data row1 col2\" >זאבה</td>\n",
       "      <td id=\"T_098b9_row1_col3\" class=\"data row1 col3\" >זאבה</td>\n",
       "    </tr>\n",
       "    <tr>\n",
       "      <th id=\"T_098b9_level0_row2\" class=\"row_heading level0 row2\" >2</th>\n",
       "      <td id=\"T_098b9_row2_col0\" class=\"data row2 col0\" >Definite=Def|PronType=Art</td>\n",
       "      <td id=\"T_098b9_row2_col1\" class=\"data row2 col1\" >מילית יידוע</td>\n",
       "      <td id=\"T_098b9_row2_col2\" class=\"data row2 col2\" >ה</td>\n",
       "      <td id=\"T_098b9_row2_col3\" class=\"data row2 col3\" >ה</td>\n",
       "    </tr>\n",
       "    <tr>\n",
       "      <th id=\"T_098b9_level0_row3\" class=\"row_heading level0 row3\" >3</th>\n",
       "      <td id=\"T_098b9_row3_col0\" class=\"data row3 col0\" >Gender=Fem|Number=Sing</td>\n",
       "      <td id=\"T_098b9_row3_col1\" class=\"data row3 col1\" >שם תואר</td>\n",
       "      <td id=\"T_098b9_row3_col2\" class=\"data row3 col2\" >גדול</td>\n",
       "      <td id=\"T_098b9_row3_col3\" class=\"data row3 col3\" >גדולה</td>\n",
       "    </tr>\n",
       "    <tr>\n",
       "      <th id=\"T_098b9_level0_row4\" class=\"row_heading level0 row4\" >4</th>\n",
       "      <td id=\"T_098b9_row4_col0\" class=\"data row4 col0\" >Gender=Fem|HebBinyan=PAAL|Number=Sing|Person=3|Tense=Past|Voice=Act</td>\n",
       "      <td id=\"T_098b9_row4_col1\" class=\"data row4 col1\" >פועל</td>\n",
       "      <td id=\"T_098b9_row4_col2\" class=\"data row4 col2\" >הלך</td>\n",
       "      <td id=\"T_098b9_row4_col3\" class=\"data row4 col3\" >הלכה</td>\n",
       "    </tr>\n",
       "    <tr>\n",
       "      <th id=\"T_098b9_level0_row5\" class=\"row_heading level0 row5\" >5</th>\n",
       "      <td id=\"T_098b9_row5_col0\" class=\"data row5 col0\" >HebBinyan=PIEL|VerbForm=Inf|Voice=Act</td>\n",
       "      <td id=\"T_098b9_row5_col1\" class=\"data row5 col1\" >פועל</td>\n",
       "      <td id=\"T_098b9_row5_col2\" class=\"data row5 col2\" >ביקר</td>\n",
       "      <td id=\"T_098b9_row5_col3\" class=\"data row5 col3\" >לבקר</td>\n",
       "    </tr>\n",
       "    <tr>\n",
       "      <th id=\"T_098b9_level0_row6\" class=\"row_heading level0 row6\" >6</th>\n",
       "      <td id=\"T_098b9_row6_col0\" class=\"data row6 col0\" >Case=Acc</td>\n",
       "      <td id=\"T_098b9_row6_col1\" class=\"data row6 col1\" >מילת יחס</td>\n",
       "      <td id=\"T_098b9_row6_col2\" class=\"data row6 col2\" >את</td>\n",
       "      <td id=\"T_098b9_row6_col3\" class=\"data row6 col3\" >את</td>\n",
       "    </tr>\n",
       "    <tr>\n",
       "      <th id=\"T_098b9_level0_row7\" class=\"row_heading level0 row7\" >7</th>\n",
       "      <td id=\"T_098b9_row7_col0\" class=\"data row7 col0\" >Gender=Fem|Number=Sing</td>\n",
       "      <td id=\"T_098b9_row7_col1\" class=\"data row7 col1\" >שם עצם</td>\n",
       "      <td id=\"T_098b9_row7_col2\" class=\"data row7 col2\" >כיפה</td>\n",
       "      <td id=\"T_098b9_row7_col3\" class=\"data row7 col3\" >כיפה</td>\n",
       "    </tr>\n",
       "    <tr>\n",
       "      <th id=\"T_098b9_level0_row8\" class=\"row_heading level0 row8\" >8</th>\n",
       "      <td id=\"T_098b9_row8_col0\" class=\"data row8 col0\" >Gender=Fem|Number=Sing</td>\n",
       "      <td id=\"T_098b9_row8_col1\" class=\"data row8 col1\" >שם תואר</td>\n",
       "      <td id=\"T_098b9_row8_col2\" class=\"data row8 col2\" >אדום</td>\n",
       "      <td id=\"T_098b9_row8_col3\" class=\"data row8 col3\" >אדומה</td>\n",
       "    </tr>\n",
       "    <tr>\n",
       "      <th id=\"T_098b9_level0_row9\" class=\"row_heading level0 row9\" >9</th>\n",
       "      <td id=\"T_098b9_row9_col0\" class=\"data row9 col0\" >-</td>\n",
       "      <td id=\"T_098b9_row9_col1\" class=\"data row9 col1\" >מילת יחס</td>\n",
       "      <td id=\"T_098b9_row9_col2\" class=\"data row9 col2\" >ב</td>\n",
       "      <td id=\"T_098b9_row9_col3\" class=\"data row9 col3\" >ב</td>\n",
       "    </tr>\n",
       "    <tr>\n",
       "      <th id=\"T_098b9_level0_row10\" class=\"row_heading level0 row10\" >10</th>\n",
       "      <td id=\"T_098b9_row10_col0\" class=\"data row10 col0\" >Definite=Cons|Gender=Masc|Number=Sing</td>\n",
       "      <td id=\"T_098b9_row10_col1\" class=\"data row10 col1\" >שם עצם</td>\n",
       "      <td id=\"T_098b9_row10_col2\" class=\"data row10 col2\" >בית</td>\n",
       "      <td id=\"T_098b9_row10_col3\" class=\"data row10 col3\" >בית</td>\n",
       "    </tr>\n",
       "    <tr>\n",
       "      <th id=\"T_098b9_level0_row11\" class=\"row_heading level0 row11\" >11</th>\n",
       "      <td id=\"T_098b9_row11_col0\" class=\"data row11 col0\" >Definite=Def|PronType=Art</td>\n",
       "      <td id=\"T_098b9_row11_col1\" class=\"data row11 col1\" >מילית יידוע</td>\n",
       "      <td id=\"T_098b9_row11_col2\" class=\"data row11 col2\" >ה</td>\n",
       "      <td id=\"T_098b9_row11_col3\" class=\"data row11 col3\" >ה</td>\n",
       "    </tr>\n",
       "    <tr>\n",
       "      <th id=\"T_098b9_level0_row12\" class=\"row_heading level0 row12\" >12</th>\n",
       "      <td id=\"T_098b9_row12_col0\" class=\"data row12 col0\" >Gender=Masc|Number=Sing</td>\n",
       "      <td id=\"T_098b9_row12_col1\" class=\"data row12 col1\" >שם עצם</td>\n",
       "      <td id=\"T_098b9_row12_col2\" class=\"data row12 col2\" >חווה</td>\n",
       "      <td id=\"T_098b9_row12_col3\" class=\"data row12 col3\" >חווה</td>\n",
       "    </tr>\n",
       "    <tr>\n",
       "      <th id=\"T_098b9_level0_row13\" class=\"row_heading level0 row13\" >13</th>\n",
       "      <td id=\"T_098b9_row13_col0\" class=\"data row13 col0\" >-</td>\n",
       "      <td id=\"T_098b9_row13_col1\" class=\"data row13 col1\" >מילת יחס</td>\n",
       "      <td id=\"T_098b9_row13_col2\" class=\"data row13 col2\" >עם</td>\n",
       "      <td id=\"T_098b9_row13_col3\" class=\"data row13 col3\" >עם</td>\n",
       "    </tr>\n",
       "    <tr>\n",
       "      <th id=\"T_098b9_level0_row14\" class=\"row_heading level0 row14\" >14</th>\n",
       "      <td id=\"T_098b9_row14_col0\" class=\"data row14 col0\" >Definite=Def|PronType=Art</td>\n",
       "      <td id=\"T_098b9_row14_col1\" class=\"data row14 col1\" >מילית יידוע</td>\n",
       "      <td id=\"T_098b9_row14_col2\" class=\"data row14 col2\" >ה</td>\n",
       "      <td id=\"T_098b9_row14_col3\" class=\"data row14 col3\" >ה</td>\n",
       "    </tr>\n",
       "    <tr>\n",
       "      <th id=\"T_098b9_level0_row15\" class=\"row_heading level0 row15\" >15</th>\n",
       "      <td id=\"T_098b9_row15_col0\" class=\"data row15 col0\" >Gender=Masc|Number=Sing</td>\n",
       "      <td id=\"T_098b9_row15_col1\" class=\"data row15 col1\" >שם עצם</td>\n",
       "      <td id=\"T_098b9_row15_col2\" class=\"data row15 col2\" >שער</td>\n",
       "      <td id=\"T_098b9_row15_col3\" class=\"data row15 col3\" >שער</td>\n",
       "    </tr>\n",
       "    <tr>\n",
       "      <th id=\"T_098b9_level0_row16\" class=\"row_heading level0 row16\" >16</th>\n",
       "      <td id=\"T_098b9_row16_col0\" class=\"data row16 col0\" >Definite=Def|PronType=Art</td>\n",
       "      <td id=\"T_098b9_row16_col1\" class=\"data row16 col1\" >מילית יידוע</td>\n",
       "      <td id=\"T_098b9_row16_col2\" class=\"data row16 col2\" >ה</td>\n",
       "      <td id=\"T_098b9_row16_col3\" class=\"data row16 col3\" >ה</td>\n",
       "    </tr>\n",
       "    <tr>\n",
       "      <th id=\"T_098b9_level0_row17\" class=\"row_heading level0 row17\" >17</th>\n",
       "      <td id=\"T_098b9_row17_col0\" class=\"data row17 col0\" >Gender=Masc|Number=Sing</td>\n",
       "      <td id=\"T_098b9_row17_col1\" class=\"data row17 col1\" >שם תואר</td>\n",
       "      <td id=\"T_098b9_row17_col2\" class=\"data row17 col2\" >כחול</td>\n",
       "      <td id=\"T_098b9_row17_col3\" class=\"data row17 col3\" >כחול</td>\n",
       "    </tr>\n",
       "    <tr>\n",
       "      <th id=\"T_098b9_level0_row18\" class=\"row_heading level0 row18\" >18</th>\n",
       "      <td id=\"T_098b9_row18_col0\" class=\"data row18 col0\" >-</td>\n",
       "      <td id=\"T_098b9_row18_col1\" class=\"data row18 col1\" >פיסוק</td>\n",
       "      <td id=\"T_098b9_row18_col2\" class=\"data row18 col2\" >.</td>\n",
       "      <td id=\"T_098b9_row18_col3\" class=\"data row18 col3\" >.</td>\n",
       "    </tr>\n",
       "  </tbody>\n",
       "</table>\n"
      ]
     },
     "execution_count": 11,
     "metadata": {},
     "output_type": "execute_result"
    }
   ],
   "execution_count": 11
  },
  {
   "cell_type": "markdown",
   "metadata": {},
   "source": [
    "## Name Entity Recognition (NER)"
   ]
  },
  {
   "cell_type": "code",
   "metadata": {
    "ExecuteTime": {
     "end_time": "2024-11-11T23:25:35.083299Z",
     "start_time": "2024-11-11T23:25:32.242940Z"
    }
   },
   "source": [
    "# Check if MPS is available\n",
    "if torch.backends.mps.is_available():\n",
    "    device = torch.device(\"mps\")\n",
    "    print(\"MPS device is available.\")\n",
    "else:\n",
    "    device = torch.device(\"cpu\")\n",
    "    print(\"MPS device not found. Using CPU.\")\n",
    "\n",
    "# Initialize tokenizer and model\n",
    "tokenizer = AutoTokenizer.from_pretrained(\"avichr/heBert_NER\")\n",
    "model = AutoModelForTokenClassification.from_pretrained(\"avichr/heBert_NER\")\n",
    "model.to(device)\n",
    "\n",
    "# Create NER pipeline\n",
    "nlp = pipeline(\"ner\", model=model, tokenizer=tokenizer, grouped_entities=True, device=device)"
   ],
   "outputs": [
    {
     "name": "stdout",
     "output_type": "stream",
     "text": [
      "MPS device is available.\n"
     ]
    },
    {
     "name": "stderr",
     "output_type": "stream",
     "text": [
      "/Users/nirkon/free_dev/nlp-intro/.venv/lib/python3.9/site-packages/transformers/pipelines/token_classification.py:170: UserWarning: `grouped_entities` is deprecated and will be removed in version v5.0.0, defaulted to `aggregation_strategy=\"simple\"` instead.\n",
      "  warnings.warn(\n"
     ]
    }
   ],
   "execution_count": 12
  },
  {
   "cell_type": "code",
   "metadata": {
    "ExecuteTime": {
     "end_time": "2024-11-11T23:25:35.085766Z",
     "start_time": "2024-11-11T23:25:35.084060Z"
    }
   },
   "source": [
    "# Example Hebrew text\n",
    "text_bad = \"\"\"\n",
    "רגע לפני שידור התחקיר בחיפה, השר לביטחון לאומי \n",
    "ניסה לסנדל ולמנוע את שידור המסמך המחריד אך\n",
    "בקשתו נדחתה בבית המשפט המחוזי בירושלים. \n",
    "לאחר ההחלטה דרוקר מסר ל״מעריב״\n",
    "כי ״העובדה שבן גביר עתר בכלל לביהמ\"ש \n",
    "בידיעה ברורה שאין לו שום קייס, כנראה, מוכיחה כמה חשוב לו\n",
    "שהחומרים הללו לא יתפרסמו״. \n",
    "\"\"\""
   ],
   "outputs": [],
   "execution_count": 13
  },
  {
   "cell_type": "code",
   "metadata": {
    "ExecuteTime": {
     "end_time": "2024-11-11T23:25:35.089909Z",
     "start_time": "2024-11-11T23:25:35.088028Z"
    }
   },
   "source": [
    "def get_entities(text):\n",
    "    ner_results = nlp(text)\n",
    "    entities = []\n",
    "    for entity in ner_results:\n",
    "        entities.append({\n",
    "            'start': entity['start'],\n",
    "            'end': entity['end'],\n",
    "            'word': entity['word'],\n",
    "            'label': entity['entity_group']\n",
    "        })\n",
    "    return entities"
   ],
   "outputs": [],
   "execution_count": 14
  },
  {
   "cell_type": "code",
   "metadata": {
    "ExecuteTime": {
     "end_time": "2024-11-11T23:25:35.093610Z",
     "start_time": "2024-11-11T23:25:35.090494Z"
    }
   },
   "source": [
    "def highlight_entities(text, entities):\n",
    "    \"\"\"\n",
    "    Highlights entities in the text by wrapping them in <span> tags with styles.\n",
    "    Appends the entity label in parentheses after the entity word.\n",
    "    \"\"\"\n",
    "    highlighted_text = \"\"\n",
    "    last_idx = 0\n",
    "\n",
    "    for entity in entities:\n",
    "        start = entity['start']\n",
    "        end = entity['end']\n",
    "        label = entity['label']\n",
    "        \n",
    "        # Add text before the entity\n",
    "        highlighted_text += text[last_idx:start]\n",
    "        \n",
    "        # Define colors for different entity types\n",
    "        label_colors = {\n",
    "            'B_PERS': 'blue',    # Person\n",
    "            'B_LOC': 'green',   # Location\n",
    "            'B_ORG': 'orange',  # Organization\n",
    "            'B_MISC': 'purple'  # Miscellaneous\n",
    "        }\n",
    "        \n",
    "        # Choose color based on label, default to black if label not recognized\n",
    "        color = label_colors.get(label, 'black')\n",
    "        \n",
    "        # Extract the entity text\n",
    "        entity_text = text[start:end]\n",
    "        \n",
    "        # Wrap the entity in a span with the chosen color and append the label\n",
    "        highlighted_text += f'<span style=\"color: {color}; font-weight: bold;\">{entity_text} ({label})</span>'\n",
    "        \n",
    "        # Update the last index\n",
    "        last_idx = end\n",
    "\n",
    "    # Add any remaining text after the last entity\n",
    "    highlighted_text += text[last_idx:]\n",
    "\n",
    "    # Replace line breaks with <br> for HTML rendering\n",
    "    highlighted_text = highlighted_text.replace('\\n', '<br>')\n",
    "\n",
    "    # Wrap the text in a div with right-to-left direction for Hebrew\n",
    "    html_text = f'<div dir=\"rtl\" style=\"font-size: 16px; line-height: 1.5;\">{highlighted_text}</div>'\n",
    "    \n",
    "    return html_text"
   ],
   "outputs": [],
   "execution_count": 15
  },
  {
   "cell_type": "code",
   "metadata": {
    "ExecuteTime": {
     "end_time": "2024-11-11T23:25:36.571414Z",
     "start_time": "2024-11-11T23:25:35.094315Z"
    }
   },
   "source": [
    "entities = get_entities(text_bad)\n",
    "\n",
    "# Generate the highlighted HTML content\n",
    "html_content = highlight_entities(text_bad, entities)\n",
    "\n",
    "# Display the HTML in the Jupyter Notebook\n",
    "display(HTML(html_content))"
   ],
   "outputs": [
    {
     "name": "stderr",
     "output_type": "stream",
     "text": [
      "Asking to truncate to max_length but no maximum length is provided and the model has no predefined maximum length. Default to no truncation.\n"
     ]
    },
    {
     "data": {
      "text/plain": [
       "<IPython.core.display.HTML object>"
      ],
      "text/html": [
       "<div dir=\"rtl\" style=\"font-size: 16px; line-height: 1.5;\"><br>רגע לפני שידור התחקיר <span style=\"color: green; font-weight: bold;\">בחיפה (B_LOC)</span>, השר <span style=\"color: orange; font-weight: bold;\">לביטחון לאומי (B_ORG)</span> <br>ניסה לסנדל ולמנוע את שידור המסמך המחריד אך<br>בקשתו נדחתה בבית <span style=\"color: orange; font-weight: bold;\">המשפט המחוזי (B_ORG)</span> <span style=\"color: green; font-weight: bold;\">בירושלים (B_LOC)</span>. <br>לאחר ההחלטה <span style=\"color: blue; font-weight: bold;\">דרוקר (B_PERS)</span> מסר ל<span style=\"color: orange; font-weight: bold;\">״מעריב״ (B_ORG)</span><br>כי ״העובדה <span style=\"color: blue; font-weight: bold;\">שבן גביר (B_PERS)</span> עתר בכלל <span style=\"color: orange; font-weight: bold;\">לביהמ\"ש (B_ORG)</span> <br>בידיעה ברורה שאין לו שום קייס, כנראה, מוכיחה כמה חשוב לו<br>שהחומרים הללו לא יתפרסמו״. <br></div>"
      ]
     },
     "metadata": {},
     "output_type": "display_data"
    }
   ],
   "execution_count": 16
  },
  {
   "cell_type": "code",
   "metadata": {
    "ExecuteTime": {
     "end_time": "2024-11-11T23:25:36.573727Z",
     "start_time": "2024-11-11T23:25:36.572153Z"
    }
   },
   "source": [
    "hair_removal_text = \"\"\" \n",
    "החברה בינה מלכותית מקורית בע״מ, \n",
    "אינה עוסקת במוצר ספציפי.\n",
    "המשימה שלנו כעובדים בניהולו של משה ישראלי היא לפתור את כל הדברים\n",
    "שאחרים אינם יכולים לפתור בתל אביב תוך מתן מענה לצרכים משתנים, \n",
    "ופיתוח מיקצועי של פתרונות חדשניים ומקוריים.\n",
    "\"\"\""
   ],
   "outputs": [],
   "execution_count": 17
  },
  {
   "cell_type": "code",
   "metadata": {
    "ExecuteTime": {
     "end_time": "2024-11-11T23:25:36.681617Z",
     "start_time": "2024-11-11T23:25:36.574463Z"
    }
   },
   "source": [
    "entities = get_entities(hair_removal_text)\n",
    "\n",
    "# Generate the highlighted HTML content\n",
    "html_content = highlight_entities(hair_removal_text, entities)\n",
    "\n",
    "# Display the HTML in the Jupyter Notebook\n",
    "display(HTML(html_content))"
   ],
   "outputs": [
    {
     "data": {
      "text/plain": [
       "<IPython.core.display.HTML object>"
      ],
      "text/html": [
       "<div dir=\"rtl\" style=\"font-size: 16px; line-height: 1.5;\"> <br>החברה <span style=\"color: orange; font-weight: bold;\">בינה מלכותית מקורית (B_ORG)</span> בע״<span style=\"color: orange; font-weight: bold;\">מ (B_ORG)</span>, <br>אינה עוסקת במוצר ספציפי.<br>המשימה שלנו כעובדים בניהולו של <span style=\"color: blue; font-weight: bold;\">משה ישראלי (B_PERS)</span> היא לפתור את כל הדברים<br>שאחרים אינם יכולים לפתור <span style=\"color: green; font-weight: bold;\">בתל אביב (B_LOC)</span> תוך מתן מענה לצרכים משתנים, <br>ופיתוח מיקצועי של פתרונות חדשניים ומקוריים.<br></div>"
      ]
     },
     "metadata": {},
     "output_type": "display_data"
    }
   ],
   "execution_count": 18
  },
  {
   "cell_type": "markdown",
   "metadata": {},
   "source": [
    "## Word Embeddings (Word2Vec, GloVe)"
   ]
  },
  {
   "cell_type": "code",
   "metadata": {
    "ExecuteTime": {
     "end_time": "2024-11-11T23:25:36.817334Z",
     "start_time": "2024-11-11T23:25:36.682407Z"
    }
   },
   "source": [
    "from gensim.models import Word2Vec\n",
    "import matplotlib.pyplot as plt\n",
    "from sklearn.decomposition import PCA\n",
    "import numpy as np\n",
    "\n",
    "hebrew_sentences = [\n",
    "    ['גבר', 'אישה', 'ילד', 'ילדה'],\n",
    "    ['מלך', 'מלכה', 'נסיך', 'נסיכה'],\n",
    "    ['גבר', 'חזק', 'אישה', 'חזקה'],\n",
    "    ['מלך', 'שולט', 'במדינה'],\n",
    "    ['מלכה', 'שולטת', 'במדינה'],\n",
    "    ['גבר', 'אוכל', 'לחם'],\n",
    "    ['אישה', 'אוכלת', 'לחם'],\n",
    "]\n",
    "\n",
    "# Train the Word2Vec model\n",
    "model = Word2Vec(sentences=hebrew_sentences, vector_size=100, window=5, min_count=1, workers=4)\n",
    "\n",
    "# Words to visualize\n",
    "words = ['מלך', 'מלכה', 'גבר', 'אישה']\n",
    "\n",
    "# Get vectors for individual words\n",
    "word_vectors = np.array([model.wv[word] for word in words])\n",
    "\n",
    "# Apply PCA to reduce to 2D\n",
    "pca = PCA(n_components=2)\n",
    "pca_result = pca.fit_transform(word_vectors)\n",
    "\n",
    "# Plotting\n",
    "plt.figure(figsize=(8, 6))\n",
    "plt.scatter(pca_result[:, 0], pca_result[:, 1])\n",
    "\n",
    "# Annotate points with words (reversed for correct Hebrew display)\n",
    "for i, word in enumerate(words):\n",
    "    plt.annotate(word[::-1], (pca_result[i, 0], pca_result[i, 1]), fontsize=12)\n",
    "\n",
    "plt.title(\"Word Embeddings Visualization in Hebrew\")\n",
    "plt.xlabel(\"PCA Component 1\")\n",
    "plt.ylabel(\"PCA Component 2\")\n",
    "plt.grid()\n",
    "plt.show()"
   ],
   "outputs": [
    {
     "data": {
      "text/plain": [
       "<Figure size 800x600 with 1 Axes>"
      ],
      "image/png": "[encoded data removed]"
     },
     "metadata": {},
     "output_type": "display_data"
    }
   ],
   "execution_count": 19
  },
  {
   "cell_type": "markdown",
   "metadata": {},
   "source": [
    "## Contextual embeddings (BERT, GPT)"
   ]
  },
  {
   "cell_type": "code",
   "metadata": {
    "ExecuteTime": {
     "end_time": "2024-11-11T23:25:38.501996Z",
     "start_time": "2024-11-11T23:25:36.818796Z"
    }
   },
   "source": [
    "model_name = \"intfloat/multilingual-e5-large\"\n",
    "model = AutoModel.from_pretrained(model_name)\n",
    "tokenizer = AutoTokenizer.from_pretrained(model_name)\n",
    "\n",
    "# Define the sentences\n",
    "sentence1 = \"הילד הקטן רץ בבוקר אל הגן\"\n",
    "sentence2 = \"הילד הנמוך רץ בבוקר אל הגן\"\n",
    "sentence3 = \"הילד החכם רץ בבוקר אל הגן\"\n",
    "sentence4 = \"הילד היפה רץ בבוקר אל הגן\"\n",
    "sentence5 = \"הילד המהיר רץ בבוקר אל הגן\"\n",
    "sentence6 = \"הילד הגאון רץ בבוקר אל הגן\"\n",
    "sentence7 = \"הילד הגאון רץ בבוקר אל הגן\"\n",
    "\n",
    "# Tokenize the sentences\n",
    "inputs1 = tokenizer(sentence1, return_tensors=\"pt\", padding=True, truncation=True)\n",
    "inputs2 = tokenizer(sentence2, return_tensors=\"pt\", padding=True, truncation=True)\n",
    "inputs3 = tokenizer(sentence3, return_tensors=\"pt\", padding=True, truncation=True)\n",
    "inputs4 = tokenizer(sentence4, return_tensors=\"pt\", padding=True, truncation=True)\n",
    "inputs5 = tokenizer(sentence5, return_tensors=\"pt\", padding=True, truncation=True)\n",
    "inputs6 = tokenizer(sentence6, return_tensors=\"pt\", padding=True, truncation=True)\n",
    "inputs7 = tokenizer(sentence7, return_tensors=\"pt\", padding=True, truncation=True)\n",
    "\n",
    "\n",
    "# Get the embeddings using mean pooling instead of pooler_output\n",
    "with torch.no_grad():\n",
    "    outputs1 = model(**inputs1)\n",
    "    outputs2 = model(**inputs2)\n",
    "    outputs3 = model(**inputs3)\n",
    "    outputs4 = model(**inputs4)\n",
    "    outputs5 = model(**inputs5)\n",
    "    outputs6 = model(**inputs6)\n",
    "    outputs7 = model(**inputs7)\n",
    "\n",
    "# Perform mean pooling (average over the token embeddings)\n",
    "embedding1 = outputs1.last_hidden_state.mean(dim=1).numpy()\n",
    "embedding2 = outputs2.last_hidden_state.mean(dim=1).numpy()\n",
    "embedding3 = outputs3.last_hidden_state.mean(dim=1).numpy()\n",
    "embedding4 = outputs4.last_hidden_state.mean(dim=1).numpy()\n",
    "embedding5 = outputs5.last_hidden_state.mean(dim=1).numpy()\n",
    "embedding6 = outputs6.last_hidden_state.mean(dim=1).numpy()\n",
    "embedding7 = outputs7.last_hidden_state.mean(dim=1).numpy()\n",
    "\n",
    "# Combine the embeddings into a single array\n",
    "embeddings = np.vstack([embedding1, embedding2, embedding3, embedding4, embedding5, embedding6, embedding7])\n",
    "\n",
    "# Perform PCA to reduce the dimensionality to 2D for visualization\n",
    "pca = PCA(n_components=2)\n",
    "reduced_embeddings = pca.fit_transform(embeddings)\n",
    "\n",
    "# Plot the embeddings\n",
    "plt.figure(figsize=(8, 6))\n",
    "\n",
    "# Hebrew text does not need to be reversed for proper rendering in matplotlib\n",
    "sentences = [sentence1, sentence2, sentence3, sentence4, sentence5, sentence6, sentence7]\n",
    "\n",
    "# Plot the points with unique colors\n",
    "colors = ['blue', 'green', 'red', 'purple', 'yellow', 'orange', 'brown']\n",
    "plt.scatter(reduced_embeddings[:, 0], reduced_embeddings[:, 1], c=colors)\n",
    "\n",
    "# Annotate the points with the actual sentences in Hebrew\n",
    "for i, sentence in enumerate(sentences):\n",
    "    plt.text(reduced_embeddings[i, 0], reduced_embeddings[i, 1], sentence[::-1], fontsize=12, ha='right')\n",
    "\n",
    "# Set labels and title\n",
    "plt.xlabel('')\n",
    "plt.ylabel('')\n",
    "plt.title('ילד הולך לגן - משמעויות שונות'[::-1])\n",
    "\n",
    "# Show grid and plot\n",
    "plt.grid(True)\n",
    "plt.show()"
   ],
   "outputs": [
    {
     "data": {
      "text/plain": [
       "<Figure size 800x600 with 1 Axes>"
      ],
      "image/png": "[encoded data removed]"
     },
     "metadata": {},
     "output_type": "display_data"
    }
   ],
   "execution_count": 20
  },
  {
   "cell_type": "markdown",
   "metadata": {},
   "source": []
  }
 ],
 "metadata": {
  "kernelspec": {
   "display_name": ".venv",
   "language": "python",
   "name": "python3"
  },
  "language_info": {
   "codemirror_mode": {
    "name": "ipython",
    "version": 3
   },
   "file_extension": ".py",
   "mimetype": "text/x-python",
   "name": "python",
   "nbconvert_exporter": "python",
   "pygments_lexer": "ipython3",
   "version": "3.10.14"
  }
 },
 "nbformat": 4,
 "nbformat_minor": 2
}
